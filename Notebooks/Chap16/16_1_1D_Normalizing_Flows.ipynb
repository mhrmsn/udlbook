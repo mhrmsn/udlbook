{
 "cells": [
  {
   "cell_type": "markdown",
   "metadata": {},
   "source": [
    "<a href=\"https://colab.research.google.com/github/udlbook/udlbook/blob/main/Notebooks/Chap16/16_1_1D_Normalizing_Flows.ipynb\" target=\"_parent\"><img src=\"https://colab.research.google.com/assets/colab-badge.svg\" alt=\"Open In Colab\"/></a>"
   ]
  },
  {
   "cell_type": "markdown",
   "metadata": {},
   "source": [
    "# **Notebook 16.1: 1D normalizing flows**\n",
    "\n",
    "This notebook investigates a 1D normalizing flows example similar to that illustrated in figures 16.1 to 16.3 in the book.\n",
    "\n",
    "Work through the cells below, running each cell in turn. In various places you will see the words \"TO DO\". Follow the instructions at these places and make predictions about what is going to happen or write code to complete the functions.\n",
    "\n",
    "Contact me at udlbookmail@gmail.com if you find any mistakes or have any suggestions."
   ]
  },
  {
   "cell_type": "code",
   "execution_count": null,
   "metadata": {},
   "outputs": [],
   "source": [
    "import numpy as np\n",
    "import matplotlib.pyplot as plt"
   ]
  },
  {
   "cell_type": "markdown",
   "metadata": {},
   "source": [
    "First we start with a base probability density function"
   ]
  },
  {
   "cell_type": "code",
   "execution_count": null,
   "metadata": {},
   "outputs": [],
   "source": [
    "# Define the base pdf\n",
    "def gauss_pdf(z, mu, sigma):\n",
    "  pr_z = np.exp( -0.5 * (z-mu) * (z-mu) / (sigma * sigma))/(np.sqrt(2*3.1413) * sigma)\n",
    "  return pr_z"
   ]
  },
  {
   "cell_type": "code",
   "execution_count": null,
   "metadata": {},
   "outputs": [],
   "source": [
    "z = np.arange(-3,3,0.01)\n",
    "pr_z = gauss_pdf(z, 0, 1)\n",
    "\n",
    "fig,ax = plt.subplots()\n",
    "ax.plot(z, pr_z)\n",
    "ax.set_xlim([-3,3])\n",
    "ax.set_xlabel('$z$')\n",
    "ax.set_ylabel('$Pr(z)$')\n",
    "plt.show();"
   ]
  },
  {
   "cell_type": "markdown",
   "metadata": {},
   "source": [
    "Now let's define a nonlinear function that maps from the latent space $z$ to the observed data $x$."
   ]
  },
  {
   "cell_type": "code",
   "execution_count": null,
   "metadata": {},
   "outputs": [],
   "source": [
    "# Define a function that maps from the base pdf over z to the observed space x\n",
    "def f(z):\n",
    "    x1 = 6/(1+np.exp(-(z-0.25)*1.5))-3\n",
    "    x2 = z\n",
    "    p = z * z/9\n",
    "    x = (1-p) * x1 + p * x2\n",
    "    return x\n",
    "\n",
    "# Compute gradient of that function using finite differences\n",
    "def df_dz(z):\n",
    "    return (f(z+0.0001)-f(z-0.0001))/0.0002"
   ]
  },
  {
   "cell_type": "code",
   "execution_count": null,
   "metadata": {},
   "outputs": [],
   "source": [
    "x = f(z)\n",
    "fig, ax = plt.subplots()\n",
    "ax.plot(z,x)\n",
    "ax.set_xlim(-3,3)\n",
    "ax.set_ylim(-3,3)\n",
    "ax.set_xlabel('Latent variable, $z$')\n",
    "ax.set_ylabel('Observed variable, $x$')\n",
    "plt.show()"
   ]
  },
  {
   "cell_type": "markdown",
   "metadata": {},
   "source": [
    "Now let's evaluate the density in the observed space using equation 16.1"
   ]
  },
  {
   "cell_type": "code",
   "execution_count": null,
   "metadata": {},
   "outputs": [],
   "source": [
    "# TODO -- plot the density in the observed space\n",
    "# Replace these line\n",
    "x = np.ones_like(z)\n",
    "pr_x = np.ones_like(pr_z)\n"
   ]
  },
  {
   "cell_type": "code",
   "execution_count": null,
   "metadata": {},
   "outputs": [],
   "source": [
    "# Plot the density in the observed space\n",
    "fig,ax = plt.subplots()\n",
    "ax.plot(x, pr_x)\n",
    "ax.set_xlim([-3,3])\n",
    "ax.set_ylim([0, 0.5])\n",
    "ax.set_xlabel('$x$')\n",
    "ax.set_ylabel('$Pr(x)$')\n",
    "plt.show();"
   ]
  },
  {
   "cell_type": "markdown",
   "metadata": {},
   "source": [
    "Now let's draw some samples from the new distribution (see section 16.1)"
   ]
  },
  {
   "cell_type": "code",
   "execution_count": null,
   "metadata": {},
   "outputs": [],
   "source": [
    "np.random.seed(1)\n",
    "n_sample = 20\n",
    "\n",
    "# TODO -- Draw samples from the modeled density\n",
    "# Replace this line\n",
    "x_samples = np.ones((n_sample, 1))\n",
    "\n"
   ]
  },
  {
   "cell_type": "code",
   "execution_count": null,
   "metadata": {},
   "outputs": [],
   "source": [
    "# Draw the samples\n",
    "fig,ax = plt.subplots()\n",
    "ax.plot(x, pr_x)\n",
    "for x_sample in x_samples:\n",
    "  ax.plot([x_sample, x_sample], [0,0.1], 'r-')\n",
    "\n",
    "ax.set_xlim([-3,3])\n",
    "ax.set_ylim([0, 0.5])\n",
    "ax.set_xlabel('$x$')\n",
    "ax.set_ylabel('$Pr(x)$')\n",
    "plt.show();"
   ]
  }
 ],
 "metadata": {
  "colab": {
   "authorship_tag": "ABX9TyMJLViYIpiivB2A7YIuZmzU",
   "include_colab_link": true,
   "provenance": []
  },
  "kernelspec": {
   "display_name": "Python 3",
   "name": "python3"
  },
  "language_info": {
   "name": "python"
  }
 },
 "nbformat": 4,
 "nbformat_minor": 0
}
